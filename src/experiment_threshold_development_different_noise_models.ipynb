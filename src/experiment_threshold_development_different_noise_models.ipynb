{
 "cells": [
  {
   "cell_type": "code",
   "execution_count": 1,
   "id": "90dde5cd",
   "metadata": {},
   "outputs": [],
   "source": [
    "from sklearn.ensemble import RandomForestClassifier\n",
    "from util.create_artificial_dataset import create_artificial_dataset, corrupt_ccn, corrupt_iln\n",
    "from sklearn.model_selection import cross_val_predict\n",
    "from sklearn.ensemble import RandomForestClassifier\n",
    "from sklearn.model_selection import cross_val_predict"
   ]
  },
  {
   "cell_type": "code",
   "execution_count": 2,
   "id": "89f9e338",
   "metadata": {},
   "outputs": [],
   "source": [
    "def compute_per_class_thresholds(df, noisy_label):\n",
    "    X_y_tilde = df[df[\"label\"] == noisy_label]\n",
    "\n",
    "    model = RandomForestClassifier()\n",
    "\n",
    "    probs = cross_val_predict(model, df[[\"x1\", \"x2\"]], df[\"label\"], cv=5, method='predict_proba')\n",
    "    predictions = probs[X_y_tilde.index][:, noisy_label]\n",
    "\n",
    "    return (1 / len(X_y_tilde)) * sum(predictions)"
   ]
  },
  {
   "cell_type": "code",
   "execution_count": null,
   "id": "c6459a98",
   "metadata": {},
   "outputs": [
    {
     "name": "stdout",
     "output_type": "stream",
     "text": [
      "per class threshold match: 0.8798280000000023 | per class threshold non match: 0.8803680000000005\n",
      "per class threshold match: 0.9255228628230615 | per class threshold non match: 0.9261448692152924\n",
      "per class threshold match: 0.7743366135052616 | per class threshold non match: 0.7089965903555782\n"
     ]
    }
   ],
   "source": [
    "df = create_artificial_dataset()\n",
    "\n",
    "iln_corrupted = corrupt_iln(df, teacher_model=RandomForestClassifier(), dataset=\"artificial\").drop([\"mislabeling_probability\", \"label\"], axis=1).rename(columns={'noisy_label': 'label'})\n",
    "ccn_corrupted = corrupt_ccn(df, alpha=0.18, beta=0.01).drop([\"label\"], axis=1).rename(columns={'noisy_label': 'label'})\n",
    "\n",
    "print(f'per class threshold match: {compute_per_class_thresholds(df, 1)} | per class threshold non match: {compute_per_class_thresholds(df, 0)}')\n",
    "print(f'per class threshold match: {compute_per_class_thresholds(iln_corrupted, 1)} | per class threshold non match: {compute_per_class_thresholds(iln_corrupted, 0)}')\n",
    "print(f'per class threshold match: {compute_per_class_thresholds(ccn_corrupted, 1)} | per class threshold non match: {compute_per_class_thresholds(ccn_corrupted, 0)}')\n"
   ]
  }
 ],
 "metadata": {
  "kernelspec": {
   "display_name": "master-thesis-env",
   "language": "python",
   "name": "python3"
  },
  "language_info": {
   "codemirror_mode": {
    "name": "ipython",
    "version": 3
   },
   "file_extension": ".py",
   "mimetype": "text/x-python",
   "name": "python",
   "nbconvert_exporter": "python",
   "pygments_lexer": "ipython3",
   "version": "3.11.11"
  }
 },
 "nbformat": 4,
 "nbformat_minor": 5
}
